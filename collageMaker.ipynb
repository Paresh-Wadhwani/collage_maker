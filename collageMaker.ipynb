{
 "cells": [
  {
   "cell_type": "code",
   "execution_count": 12,
   "metadata": {},
   "outputs": [],
   "source": [
    "import cv2\n",
    "import matplotlib.pyplot as plt\n",
    "import numpy as np\n",
    "from PIL import Image as im"
   ]
  },
  {
   "cell_type": "code",
   "execution_count": 13,
   "metadata": {},
   "outputs": [],
   "source": [
    "bottom_left = cv2.imread('images/bottom_left.jpg')\n",
    "bottom_left = cv2.cvtColor(bottom_left, cv2.COLOR_BGR2RGB)\n",
    "bottom_left = cv2.resize(bottom_left, (200, 200))\n",
    "bottom_left = cv2.copyMakeBorder(\n",
    "                 bottom_left, \n",
    "                 10, \n",
    "                 10, \n",
    "                 10, \n",
    "                 10, \n",
    "                 cv2.BORDER_CONSTANT, \n",
    "                 value = [0, 0, 0]\n",
    "              )\n",
    "\n",
    "bottom_right = cv2.imread('images/bottom_right.jpg')\n",
    "bottom_right = cv2.cvtColor(bottom_right, cv2.COLOR_BGR2RGB)\n",
    "bottom_right = cv2.resize(bottom_right, (200, 200))\n",
    "bottom_right = cv2.copyMakeBorder(\n",
    "                 bottom_right, \n",
    "                 10, \n",
    "                 10, \n",
    "                 0, \n",
    "                 10, \n",
    "                 cv2.BORDER_CONSTANT, \n",
    "                 value = [0, 0, 0]\n",
    "              )\n",
    "\n",
    "center = cv2.imread('images/center.jpeg')\n",
    "center = cv2.cvtColor(center, cv2.COLOR_BGR2RGB)\n",
    "center = cv2.resize(center, (100, 100))\n",
    "center = cv2.copyMakeBorder(\n",
    "                 center, \n",
    "                 10, \n",
    "                 10, \n",
    "                 10, \n",
    "                 10, \n",
    "                 cv2.BORDER_CONSTANT, \n",
    "                 value = [0, 0, 0]\n",
    "              )\n",
    "\n",
    "top_left = cv2.imread('images/top_left.jpg')\n",
    "top_left = cv2.cvtColor(top_left, cv2.COLOR_BGR2RGB)\n",
    "top_left = cv2.resize(top_left, (200, 200))\n",
    "top_left = cv2.copyMakeBorder(\n",
    "                 top_left, \n",
    "                 10, \n",
    "                 0, \n",
    "                 10, \n",
    "                 10, \n",
    "                 cv2.BORDER_CONSTANT, \n",
    "                 value = [0, 0, 0]\n",
    "              )\n",
    "\n",
    "top_right = cv2.imread('images/top_right.jpg')\n",
    "top_right = cv2.cvtColor(top_right, cv2.COLOR_BGR2RGB)\n",
    "top_right = cv2.resize(top_right, (200, 200))\n",
    "top_right = cv2.copyMakeBorder(\n",
    "                 top_right, \n",
    "                 10, \n",
    "                 0, \n",
    "                 0, \n",
    "                 10, \n",
    "                 cv2.BORDER_CONSTANT, \n",
    "                 value = [0, 0, 0]\n",
    "              )"
   ]
  },
  {
   "cell_type": "code",
   "execution_count": 14,
   "metadata": {},
   "outputs": [],
   "source": [
    "top_half = np.array([np.concatenate((top_left[i], top_right[i])) for i in range(210)])"
   ]
  },
  {
   "cell_type": "code",
   "execution_count": 15,
   "metadata": {},
   "outputs": [],
   "source": [
    "bottom_half = np.array([np.concatenate((bottom_left[i], bottom_right[i])) for i in range(220)])"
   ]
  },
  {
   "cell_type": "code",
   "execution_count": 16,
   "metadata": {},
   "outputs": [],
   "source": [
    "final = np.concatenate((top_half, bottom_half))"
   ]
  },
  {
   "cell_type": "code",
   "execution_count": 17,
   "metadata": {},
   "outputs": [],
   "source": [
    "for row_n in range(len(final)):\n",
    "    for cell_n in range(len(final[row_n])):\n",
    "        if cell_n > 154 and row_n > 154 and cell_n < 274 and row_n < 274:\n",
    "            final[row_n][cell_n] = center[row_n - 154][cell_n - 154]"
   ]
  },
  {
   "cell_type": "code",
   "execution_count": 18,
   "metadata": {},
   "outputs": [],
   "source": [
    "# This file was required to be submitted\n",
    "with open('final.csv', 'w') as file:\n",
    "    file.write('r,g,b\\n')\n",
    "    for row in final:\n",
    "        for cell in row:\n",
    "            file.write(str(cell[0]))\n",
    "            file.write(',')\n",
    "            file.write(str(cell[1]))\n",
    "            file.write(',')\n",
    "            file.write(str(cell[2]))\n",
    "            file.write('\\n')"
   ]
  },
  {
   "cell_type": "code",
   "execution_count": 19,
   "metadata": {},
   "outputs": [],
   "source": [
    "# plt.imshow(final)"
   ]
  },
  {
   "cell_type": "code",
   "execution_count": 20,
   "metadata": {},
   "outputs": [],
   "source": [
    "final_img = im.fromarray(final)\n",
    "final_img.save('final_img.jpeg')"
   ]
  },
  {
   "cell_type": "code",
   "execution_count": null,
   "metadata": {},
   "outputs": [],
   "source": []
  }
 ],
 "metadata": {
  "kernelspec": {
   "display_name": "Python 3",
   "language": "python",
   "name": "python3"
  },
  "language_info": {
   "codemirror_mode": {
    "name": "ipython",
    "version": 3
   },
   "file_extension": ".py",
   "mimetype": "text/x-python",
   "name": "python",
   "nbconvert_exporter": "python",
   "pygments_lexer": "ipython3",
   "version": "3.8.5"
  }
 },
 "nbformat": 4,
 "nbformat_minor": 4
}
